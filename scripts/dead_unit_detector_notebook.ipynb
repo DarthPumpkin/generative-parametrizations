{
 "cells": [
  {
   "cell_type": "code",
   "execution_count": 3,
   "metadata": {
    "collapsed": true
   },
   "outputs": [
    {
     "name": "stdout",
     "output_type": "stream",
     "text": [
      "Data loaded\nINFO:tensorflow:Model using cpu.\n"
     ]
    },
    {
     "name": "stdout",
     "output_type": "stream",
     "text": [
      "Model loaded\n"
     ]
    }
   ],
   "source": [
    "import numpy as np\n",
    "import matplotlib.pyplot as plt\n",
    "import os\n",
    "import cv2\n",
    "from gpp.world_models_vae import ConvVAE\n",
    "\n",
    "os.environ[\"CUDA_VISIBLE_DEVICES\"] = \"0\"  # can just override for multi-gpu systems\n",
    "np.set_printoptions(precision=4, edgeitems=6, linewidth=100, suppress=True)\n",
    "\n",
    "data_path = \"data\"\n",
    "dataset = np.load(os.path.join(data_path, 'push_sphere_v0_imgs.npz'))\n",
    "dataset = dataset['arr_0']\n",
    "dataset = dataset / 255.\n",
    "new_data = []\n",
    "for i, d in enumerate(dataset):\n",
    "    new_data.append(cv2.resize(d, (64, 64), interpolation=cv2.INTER_AREA))\n",
    "dataset = np.array(new_data)\n",
    "print(\"Data loaded\")\n",
    "\n",
    "z_size = 16\n",
    "batch_size = 32\n",
    "kl_tolerance = 0.5\n",
    "learning_rate = 0.001\n",
    "vae = ConvVAE(z_size=z_size, batch_size=batch_size, learning_rate=learning_rate, kl_tolerance=kl_tolerance,\n",
    "              is_training=True, reuse=False, gpu_mode=False, reconstruction_option=1,\n",
    "              kl_option=2)\n",
    "vae.load_json(\"scripts/colab_models/kl2rl1-z16-b600-push_sphere_v0vae-fetch199.json\")\n",
    "print(\"Model loaded\")\n",
    "\n"
   ]
  },
  {
   "cell_type": "code",
   "execution_count": 12,
   "metadata": {
    "collapsed": true
   },
   "outputs": [
    {
     "name": "stdout",
     "output_type": "stream",
     "text": [
      "[0, 1, 2, 3, 4, 5, 6, 7, 8, 9, 10, 11, 13, 14, 15]"
     ]
    },
    {
     "name": "stdout",
     "output_type": "stream",
     "text": [
      "\n"
     ]
    },
    {
     "name": "stdout",
     "output_type": "stream",
     "text": [
      "15"
     ]
    },
    {
     "name": "stdout",
     "output_type": "stream",
     "text": [
      "\n"
     ]
    }
   ],
   "source": [
    "latent_walk_length = 32\n",
    "alive_threshold = 0.05\n",
    "reconstructed_imgs = []\n",
    "alive_idx_set = []\n",
    "mean_variances = np.zeros(z_size)\n",
    "for pic_index in range(20):\n",
    "    z = vae.encode(dataset[:batch_size])\n",
    "    mins = np.min(z, axis=0)\n",
    "    maxes = np.max(z, axis=0)\n",
    "    originals = z[pic_index].copy()\n",
    "    reconstructed_imgs = []\n",
    "    for i in range(z.shape[1]):\n",
    "        latent_walk = np.linspace(mins[i], maxes[i], latent_walk_length)\n",
    "        latent_walk_imgs = []\n",
    "        for j, walk in enumerate(latent_walk):\n",
    "            z[pic_index][i] = walk\n",
    "            latent_walk_imgs.append(z[pic_index].copy())\n",
    "        latent_walk_imgs = np.array(latent_walk_imgs)\n",
    "        reconstruct = vae.decode(latent_walk_imgs)\n",
    "        reconstructed_imgs.append(reconstruct.copy())\n",
    "        z[pic_index] = originals        \n",
    "    results = []\n",
    "    for img in reconstructed_imgs:\n",
    "        var = np.var(img, axis=0)\n",
    "        results.append(var.max())\n",
    "    mean_variances += np.array(results)    \n",
    "    alive_idx = np.where(np.array(results) > alive_threshold)\n",
    "    alive_idx_set.extend(list(alive_idx[0]))\n",
    "    # print(\"Alive indixes for image: {}\\n{}\".format(pic_index, alive_idx))\n",
    "mean_variances /= latent_walk_length\n",
    "alive_idx_set = list(set(alive_idx_set))\n",
    "print(alive_idx_set)\n",
    "print(len(alive_idx_set))\n"
   ]
  },
  {
   "cell_type": "code",
   "execution_count": 11,
   "metadata": {},
   "outputs": [
    {
     "data": {
      "text/plain": [
       "[<matplotlib.lines.Line2D at 0x1ae9bd4a320>]"
      ]
     },
     "execution_count": 11,
     "metadata": {},
     "output_type": "execute_result"
    }
   ],
   "source": [
    "import matplotlib\n",
    "matplotlib.rcParams['mathtext.fontset'] = 'stix'\n",
    "matplotlib.rcParams['font.family'] = 'STIXGeneral'\n",
    "# plt.rcParams['savefig.dpi'] = 250\n",
    "plt.style.use('ggplot')\n",
    "plt.rcParams[\"errorbar.capsize\"] = 2\n",
    "plt.plot(mean_variances, '-o')"
   ]
  },
  {
   "cell_type": "code",
   "execution_count": 7,
   "metadata": {},
   "outputs": [
    {
     "name": "stdout",
     "output_type": "stream",
     "text": [
      "Number of alive indices: 15"
     ]
    },
    {
     "name": "stdout",
     "output_type": "stream",
     "text": [
      "\n"
     ]
    },
    {
     "data": {
      "text/plain": [
       "HBox(children=(IntProgress(value=1, bar_style='info', max=1), HTML(value='')))"
      ]
     },
     "execution_count": 0,
     "metadata": {},
     "output_type": "execute_result"
    },
    {
     "name": "stdout",
     "output_type": "stream",
     "text": [
      "\n"
     ]
    }
   ],
   "source": [
    "from tqdm import tqdm_notebook as tqdm\n",
    "import matplotlib.gridspec as gridspec\n",
    "print(\"Number of alive indices: {}\".format(len(alive_idx_set)))\n",
    "pic_index = 9\n",
    "z = vae.encode(dataset[:batch_size])\n",
    "reconstruct = vae.decode(z)\n",
    "pic = reconstruct[pic_index]\n",
    "mins = np.min(z, axis=0)\n",
    "maxes = np.max(z, axis=0)\n",
    "originals = z[pic_index].copy()\n",
    "latent_walk_length = 10\n",
    "fig = plt.figure(figsize=(latent_walk_length, len(alive_idx_set)))\n",
    "plt.tight_layout()\n",
    "\n",
    "fig.suptitle(\"Latent walk on non-dead units\")\n",
    "for idx, i in tqdm(enumerate(alive_idx_set)):\n",
    "    latent_walk = np.linspace(mins[i], maxes[i], latent_walk_length)\n",
    "    for j, walk in enumerate(latent_walk):\n",
    "        z[pic_index][i] = walk\n",
    "        reconstruct = vae.decode(z)\n",
    "        ax1 = plt.subplot(len(alive_idx_set), latent_walk_length, (idx * latent_walk_length + (j + 1)))\n",
    "        plt.axis('off')\n",
    "        ax1.set_xticklabels([])\n",
    "        ax1.set_yticklabels([])\n",
    "        plt.imshow(reconstruct[pic_index])\n",
    "        z[pic_index] = originals\n",
    "plt.subplots_adjust(wspace=0, hspace=0)\n",
    "plt.savefig(\"disentaglement_check.pdf\", format=\"pdf\")\n"
   ]
  },
  {
   "cell_type": "code",
   "execution_count": 109,
   "metadata": {},
   "outputs": [
    {
     "name": "stdout",
     "output_type": "stream",
     "text": [
      "123\n"
     ]
    }
   ],
   "source": [
    "print(123)"
   ]
  },
  {
   "cell_type": "code",
   "execution_count": 131,
   "metadata": {},
   "outputs": [
    {
     "data": {
      "text/plain": [
       "<matplotlib.image.AxesImage at 0x15c386a90>"
      ]
     },
     "execution_count": 131,
     "metadata": {},
     "output_type": "execute_result"
    },
    {
     "data": {
      "image/png": "[encoded data removed]",
      "text/plain": [
       "<Figure size 432x288 with 1 Axes>"
      ]
     },
     "metadata": {},
     "output_type": "display_data"
    }
   ],
   "source": [
    "plt.imshow(dataset[9])"
   ]
  },
  {
   "cell_type": "code",
   "execution_count": null,
   "metadata": {},
   "outputs": [],
   "source": []
  }
 ],
 "metadata": {
  "kernelspec": {
   "display_name": "Python 2",
   "language": "python",
   "name": "python2"
  },
  "language_info": {
   "codemirror_mode": {
    "name": "ipython",
    "version": 2
   },
   "file_extension": ".py",
   "mimetype": "text/x-python",
   "name": "python",
   "nbconvert_exporter": "python",
   "pygments_lexer": "ipython2",
   "version": "2.7.6"
  }
 },
 "nbformat": 4,
 "nbformat_minor": 0
}
