{
 "cells": [
  {
   "cell_type": "code",
   "execution_count": 1,
   "metadata": {
    "collapsed": true
   },
   "outputs": [],
   "source": [
    "%matplotlib notebook\n",
    "from ipywidgets import *\n",
    "import numpy as np\n",
    "import matplotlib.pyplot as plt\n",
    "import os\n",
    "import cv2\n",
    "from gpp.world_models_vae import ConvVAE\n",
    "\n",
    "import zipfile\n",
    "os.environ[\"CUDA_VISIBLE_DEVICES\"] = \"0\"  # can just override for multi-gpu systems\n",
    "np.set_printoptions(precision=4, edgeitems=6, linewidth=100, suppress=True)\n"
   ]
  },
  {
   "cell_type": "code",
   "execution_count": 45,
   "metadata": {},
   "outputs": [
    {
     "name": "stdout",
     "output_type": "stream",
     "text": [
      "done\n"
     ]
    }
   ],
   "source": [
    "z_size = 16\n",
    "batch_size = 32\n",
    "kl_tolerance = 0.5\n",
    "learning_rate = 0.001\n",
    "data_path = \"data\"\n",
    "dataset = np.load(os.path.join(data_path, 'fetch_sphere_big_longer_color_imgs.npz'))\n",
    "dataset = dataset['arr_0']\n",
    "np.random.shuffle(dataset)\n",
    "dataset = dataset / 255.\n",
    "new_data = []\n",
    "for i, d in enumerate(dataset):\n",
    "    new_data.append(cv2.resize(d, (64, 64), interpolation=cv2.INTER_AREA))\n",
    "dataset = np.array(new_data)\n",
    "print(\"done\")\n"
   ]
  },
  {
   "cell_type": "code",
   "execution_count": 46,
   "metadata": {},
   "outputs": [
    {
     "name": "stdout",
     "output_type": "stream",
     "text": [
      "(6342, 64, 64, 3)\n"
     ]
    }
   ],
   "source": [
    "%matplotlib inline\n",
    "print(dataset.shape)\n",
    "# pic_sums = np.sum(dataset, axis=(1, 2, 3))\n",
    "# small_pic_idx = np.where(pic_sums < 8000)[0]\n",
    "# print(small_pic_idx)\n",
    "# print(dataset.shape)\n",
    "# new_dataset = np.delete(dataset, small_pic_idx, axis=0)\n",
    "# np.savez_compressed('fetch_sphere_big_longer_color_imgs', new_dataset)\n",
    "# print(new_dataset.shape)"
   ]
  },
  {
   "cell_type": "code",
   "execution_count": 52,
   "metadata": {},
   "outputs": [
    {
     "name": "stdout",
     "output_type": "stream",
     "text": [
      "INFO:tensorflow:Model using cpu.\n"
     ]
    }
   ],
   "source": [
    "z_size = 32\n",
    "batch_size = 32\n",
    "kl_tolerance = 0.5\n",
    "learning_rate = 0.001\n",
    "vae = ConvVAE(z_size=z_size, batch_size=batch_size, learning_rate=learning_rate, kl_tolerance=kl_tolerance,\n",
    "              is_training=True, reuse=False, gpu_mode=False, reconstruction_option=1,\n",
    "              kl_option=2)\n",
    "# vae.load_json(\"best_models/kl2-rl1-b10vae-fetch950.json\")\n",
    "vae.load_json(\"scripts/best_models/newModels/kl2rl1-b200-z32-colordatasetvae-fetch199.json\")"
   ]
  },
  {
   "cell_type": "code",
   "execution_count": 11,
   "metadata": {},
   "outputs": [
    {
     "data": {
      "text/plain": [
       "<IPython.core.display.Javascript object>"
      ]
     },
     "execution_count": 0,
     "metadata": {},
     "output_type": "execute_result"
    },
    {
     "data": {
      "text/html": [
       "<div id='d338ed99-d1e7-4d77-90b7-cb3e6b51fe69'></div>"
      ],
      "text/plain": [
       "<div id='d338ed99-d1e7-4d77-90b7-cb3e6b51fe69'></div>"
      ]
     },
     "execution_count": 0,
     "metadata": {},
     "output_type": "execute_result"
    },
    {
     "data": {
      "text/plain": [
       "interactive(children=(FloatSlider(value=1.0188888311386108, description='w1', max=2.3163464069366455, min=-1.7…"
      ]
     },
     "execution_count": 0,
     "metadata": {},
     "output_type": "execute_result"
    },
    {
     "data": {
      "text/plain": [
       "<function __main__.update(w1=1.0, w2=1.0, w3=1.0, w4=1.0, w5=1.0, w6=1.0, w7=1.0, w8=1.0)>"
      ]
     },
     "execution_count": 11,
     "metadata": {},
     "output_type": "execute_result"
    }
   ],
   "source": [
    "\"\"\" THIS THING IS NOT WORKING. SEE NEXT CELLS FOR PLOTS\"\"\"\n",
    "z = vae.encode(dataset[:batch_size])\n",
    "reconstruct = vae.decode(z)\n",
    "pic = reconstruct[0]\n",
    "\n",
    "fig, ax = plt.subplots()\n",
    "im = ax.imshow(pic)\n",
    "\n",
    "\n",
    "def update(w1=1.0, w2=1.0, w3=1.0, w4=1.0, w5=1.0, w6=1.0, w7=1.0, w8=1.0):\n",
    "    weights = np.array([w1, w2, w3, w4, w5, w6, w7, w8])\n",
    "    z[0][:8] = weights\n",
    "    reconstruct = vae.decode(z)\n",
    "    im = ax.imshow(reconstruct[0])\n",
    "    \n",
    "# freq = widgets.FloatSlider(value=7.5, min=1, max=5.0, step=0.5)\n",
    "maxes = z.max(axis=0)\n",
    "mins = z.min(axis=0)\n",
    "interact(update, \n",
    "         w1= widgets.FloatSlider(value=z[0][0], min=mins[0], max=maxes[0],step=0.1), \n",
    "         w2=widgets.FloatSlider(value=z[0][1], min=mins[1], max=maxes[1], step=0.1), \n",
    "         w3=widgets.FloatSlider(value=z[0][2], min=mins[2], max=maxes[2], step=0.1), \n",
    "         w4=widgets.FloatSlider(value=z[0][3], min=mins[3], max=maxes[3], step=0.1), \n",
    "         w5=widgets.FloatSlider(value=z[0][4], min=mins[4], max=maxes[4], step=0.1), \n",
    "         w6=widgets.FloatSlider(value=z[0][5], min=mins[5], max=maxes[5], step=0.1), \n",
    "         w7=widgets.FloatSlider(value=z[0][6], min=mins[6], max=maxes[6], step=0.1), \n",
    "         w8=widgets.FloatSlider(value=z[0][7], min=mins[7], max=maxes[7], step=0.1), \n",
    ")\n"
   ]
  },
  {
   "cell_type": "code",
   "execution_count": 54,
   "metadata": {
    "collapsed": false
   },
   "outputs": [],
   "source": [
    "%matplotlib inline\n",
    "pic_index = 2\n",
    "z = vae.encode(dataset[:batch_size])\n",
    "reconstruct = vae.decode(z)\n",
    "\"\"\" START WITH PIC[1]. DO OTHERS IF THIS ONE IS BAD\"\"\"\n",
    "pic = reconstruct[pic_index]\n",
    "mins = np.min(z, axis=0)\n",
    "maxes = np.max(z, axis=0)\n",
    "originals = z[1].copy()\n",
    "# for i in range(z.shape[1]):\n",
    "latent_walk_length = 40\n",
    "for i in range(z.shape[1]):\n",
    "    fig = plt.figure(figsize=(30, 30))\n",
    "    latent_walk = np.linspace(mins[i], maxes[i], latent_walk_length)\n",
    "    for j, walk in enumerate(latent_walk):\n",
    "        z[pic_index][i] = walk\n",
    "        reconstruct = vae.decode(z)\n",
    "        plt.title(\"Latent value {0:d} = {1:.2f}\".format(j, walk), fontsize=10)\n",
    "        plt.subplot(latent_walk_length/4, latent_walk_length/4, j+1)\n",
    "        plt.axis('off')\n",
    "        plt.imshow(reconstruct[pic_index])\n",
    "        z[pic_index] = originals\n",
    "    plt.savefig(\"LOL{}.pdf\".format(i), format=\"pdf\")\n",
    "    # plt.show()\n"
   ]
  },
  {
   "cell_type": "code",
   "execution_count": null,
   "metadata": {},
   "outputs": [],
   "source": []
  }
 ],
 "metadata": {
  "kernelspec": {
   "display_name": "Python 2",
   "language": "python",
   "name": "python2"
  },
  "language_info": {
   "codemirror_mode": {
    "name": "ipython",
    "version": 2
   },
   "file_extension": ".py",
   "mimetype": "text/x-python",
   "name": "python",
   "nbconvert_exporter": "python",
   "pygments_lexer": "ipython2",
   "version": "2.7.6"
  }
 },
 "nbformat": 4,
 "nbformat_minor": 0
}
